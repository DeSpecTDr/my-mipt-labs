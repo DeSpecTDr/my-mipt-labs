{
 "cells": [
  {
   "cell_type": "code",
   "execution_count": 56,
   "metadata": {},
   "outputs": [],
   "source": [
    "%run ../utils.ipynb"
   ]
  },
  {
   "cell_type": "code",
   "execution_count": 57,
   "metadata": {},
   "outputs": [],
   "source": [
    "g = M_(9.81, 0.01, 'м/с^2')\n",
    "R = M_(114.6, 0.1, 'мм')\n",
    "r = M_(30.2, 0.1, 'мм')\n",
    "H = M_(214.4, 0.1, 'см')\n",
    "Rk = M_(12.4, 0.05, 'см')\n",
    "z0 = (H**2-Rk**2)**0.5\n",
    "mm = M_(965.7, 0.5, 'г')\n",
    "kk = (g * R * r / 4 / np.pi**2 / z0).to(\"мм^2/с^2\")\n",
    "\n",
    "# брусок\n",
    "lb = M_(21.09, 0.01, 'см')\n",
    "wb = M_(2.67, 0.01, 'см')\n",
    "mb = M_(1077.0, 0.5, 'г') # TODO????\n",
    "\n",
    "# кольцо\n",
    "r_ring = M_(15.91, 0.01, 'см')/2\n",
    "r_ring_inner = M_(15.08, 0.01, 'см')/2\n",
    "m_ring = M_(776.6, 0.5, 'г')\n",
    "\n",
    "# диск\n",
    "rd = M_(17.04, 0.01, 'см')/2\n",
    "md = M_(589.6, 0.5, 'г')\n",
    "\n",
    "# половинки\n",
    "rp = M_(9.28, 0.01, 'см') / 2\n",
    "mp = M_(1536.2, 0.5, 'г')"
   ]
  },
  {
   "cell_type": "code",
   "execution_count": 58,
   "metadata": {},
   "outputs": [
    {
     "data": {
      "text/plain": [
       "odict_keys(['подвес', 'кольцо', 'диск', 'кольцо+диск', 'брусок горизонт', 'брусок вертик', 'раздв диск'])"
      ]
     },
     "execution_count": 58,
     "metadata": {},
     "output_type": "execute_result"
    }
   ],
   "source": [
    "df = pd.read_excel(\"data.ods\", engine=\"odf\", header=[0,1])\n",
    "# df = ([(i,df[i].dropna().to_numpy()) for i in df.columns.levels[0]])\n",
    "# df\n",
    "_d = OrderedDict.fromkeys(df.columns.get_level_values(0))\n",
    "for i in df.columns.levels[0]:\n",
    "    _d[i] = df[i].dropna().to_numpy()\n",
    "df = _d\n",
    "\n",
    "df.keys()"
   ]
  },
  {
   "cell_type": "code",
   "execution_count": 59,
   "metadata": {},
   "outputs": [],
   "source": [
    "def calc_t(v):\n",
    "    return M_(np.mean(v[:,1]/v[:,0]), np.std(v[:,1]/v[:,0]), 'с')"
   ]
  },
  {
   "cell_type": "code",
   "execution_count": 89,
   "metadata": {},
   "outputs": [
    {
     "data": {
      "text/html": [
       "(7.47 &plusmn; 0.16) г м<sup>2</sup>"
      ],
      "text/latex": [
       "$\\left(7.47 \\pm 0.16\\right)\\ \\mathrm{г} \\cdot \\mathrm{м}^{2}$"
      ],
      "text/plain": [
       "<Measurement(7.473471196383623, 0.15637692508585346, г * м ** 2)>"
      ]
     },
     "execution_count": 89,
     "metadata": {},
     "output_type": "execute_result"
    }
   ],
   "source": [
    "I = (kk * mm * calc_t(df['подвес'])**2).to(\"г м^2\")\n",
    "I # [kg * m^2]"
   ]
  },
  {
   "cell_type": "code",
   "execution_count": 61,
   "metadata": {},
   "outputs": [
    {
     "data": {
      "text/plain": [
       "odict_keys(['подвес', 'кольцо', 'диск', 'кольцо+диск', 'брусок горизонт', 'брусок вертик', 'раздв диск'])"
      ]
     },
     "execution_count": 61,
     "metadata": {},
     "output_type": "execute_result"
    }
   ],
   "source": [
    "df.keys()"
   ]
  },
  {
   "cell_type": "code",
   "execution_count": 62,
   "metadata": {},
   "outputs": [],
   "source": [
    "# calc_mean_t(df[list(df.keys())[0]]).magnitude"
   ]
  },
  {
   "cell_type": "code",
   "execution_count": 63,
   "metadata": {},
   "outputs": [],
   "source": [
    "# Q_(np.array([calc_mean_t(df[k]) for k in df.keys() if k != 'раздв диск']), 'с')\n",
    "# Q_(np.array([M_(0, 0, \"г\"), m_ring, md, m_ring + md, mb, mb]))\n",
    "\n"
   ]
  },
  {
   "cell_type": "code",
   "execution_count": 97,
   "metadata": {},
   "outputs": [],
   "source": [
    "# for k in list(df.keys())[0:-1]:\n",
    "#     v = df[k]\n",
    "#     print(np.mean(v[:,1]/v[:,0]))\n",
    "\n",
    "\n",
    "Tm = mk_numpy([calc_t(df[k]) for k in df.keys() if k != 'раздв диск'], 'с')\n",
    "# Tm = M_(np.array([calc_mean_t(df[k]).magnitude for k in df.keys() if k != 'раздв диск']), 0, u.с)\n",
    "# Tm = np.array(Tm)\n",
    "# dTm = np.array([np.std(df[k][:,1]/df[k][:,0]) for k in df.keys() if k != 'раздв диск']) * u.с\n",
    "m_array = mk_numpy([M_(0, 0, 'г'), m_ring, md, m_ring + md, mb, mb], 'г')\n",
    "# I_array = np.array([0, (r_ring**2+r_ring_inner**2)/2, rd]) * m_array\n",
    "# m_array * Tm\n",
    "Im = (m_array + mm) * Tm ** 2 * kk.to(\"м^2/с^2\")\n",
    "Im = abs(Im - I)\n",
    "Im = hack(Im)\n",
    "# dTm"
   ]
  },
  {
   "cell_type": "code",
   "execution_count": 95,
   "metadata": {},
   "outputs": [
    {
     "data": {
      "text/plain": [
       "(array([4.388723863636364+/-0.04521518901958271,\n",
       "        4.16586+/-0.003920510170883285,\n",
       "        3.9050200000000004+/-0.00341900570341746,\n",
       "        3.8927199999999997+/-0.0012188519188156576,\n",
       "        3.714866666666667+/-0.001438363267359352,\n",
       "        2.977433333333334+/-0.004711923410054722], dtype=object) <Unit('с')>,\n",
       " array([0.0+/-0, 776.6+/-0.5, 589.6+/-0.5, 1366.2+/-0.7071067811865476,\n",
       "        1077.0+/-0.5, 1077.0+/-0.5], dtype=object) <Unit('г')>,\n",
       " [0.0+/-0.2177777232375072 <Unit('г * м ** 2')>,\n",
       "  4.6753992129559565+/-0.15662880520220432 <Unit('г * м ** 2')>,\n",
       "  2.055901626705782+/-0.15510296617610628 <Unit('г * м ** 2')>,\n",
       "  6.7242903112316315+/-0.15620155599110513 <Unit('г * м ** 2')>,\n",
       "  3.853001223934828+/-0.15489398608419544 <Unit('г * м ** 2')>,\n",
       "  -0.19747769374499224+/-0.15573038073663165 <Unit('г * м ** 2')>])"
      ]
     },
     "execution_count": 95,
     "metadata": {},
     "output_type": "execute_result"
    }
   ],
   "source": [
    "Tm, m_array, Im"
   ]
  },
  {
   "cell_type": "code",
   "execution_count": 98,
   "metadata": {},
   "outputs": [],
   "source": [
    "save()"
   ]
  },
  {
   "cell_type": "code",
   "execution_count": 86,
   "metadata": {},
   "outputs": [],
   "source": [
    "I_ring = (m_ring * (r_ring**2+r_ring_inner**2)/2).to('г м^2')\n",
    "Id = (md * rd**2 / 2).to('г м^2')\n",
    "I_d_ring = Id+I_ring\n",
    "Ib_hor = (mb / 12 * (wb ** 2 + lb ** 2)).to('г м^2')\n",
    "Ib_vert = (mb / 12 * (wb ** 2) * 2).to('г м^2')\n",
    "# Ith = hack(mk_numpy([I_ring, Id, I_d_ring, Ib_hor, Ib_vert], 'г м^2'))\n",
    "# type(Ith[0])"
   ]
  },
  {
   "cell_type": "code",
   "execution_count": null,
   "metadata": {},
   "outputs": [],
   "source": []
  },
  {
   "cell_type": "code",
   "execution_count": 90,
   "metadata": {},
   "outputs": [],
   "source": [
    "save()"
   ]
  },
  {
   "cell_type": "code",
   "execution_count": 85,
   "metadata": {},
   "outputs": [
    {
     "data": {
      "text/plain": [
       "pint.Measurement"
      ]
     },
     "execution_count": 85,
     "metadata": {},
     "output_type": "execute_result"
    }
   ],
   "source": [
    "type(I_ring)"
   ]
  },
  {
   "cell_type": "code",
   "execution_count": 83,
   "metadata": {},
   "outputs": [
    {
     "data": {
      "text/html": [
       "(2.670 &plusmn; 0.010) см"
      ],
      "text/latex": [
       "$\\left(2.670 \\pm 0.010\\right)\\ \\mathrm{см}$"
      ],
      "text/plain": [
       "<Measurement(2.67, 0.01, см)>"
      ]
     },
     "execution_count": 83,
     "metadata": {},
     "output_type": "execute_result"
    }
   ],
   "source": [
    "wb"
   ]
  },
  {
   "cell_type": "code",
   "execution_count": 81,
   "metadata": {},
   "outputs": [],
   "source": [
    "save()"
   ]
  },
  {
   "cell_type": "code",
   "execution_count": 67,
   "metadata": {},
   "outputs": [
    {
     "name": "stdout",
     "output_type": "stream",
     "text": [
      "-992.4207819778024 dimensionless\n"
     ]
    },
    {
     "data": {
      "text/html": [
       "(7.42 &plusmn; 0.06) г м<sup>2</sup>"
      ],
      "text/latex": [
       "$\\left(7.42 \\pm 0.06\\right)\\ \\mathrm{г} \\cdot \\mathrm{м}^{2}$"
      ],
      "text/plain": [
       "<Measurement(7.424301600000002, 0.05999666960390385, г * м ** 2)>"
      ]
     },
     "execution_count": 67,
     "metadata": {},
     "output_type": "execute_result"
    }
   ],
   "source": [
    "I1 = mm * Rk**2/2 # kg * m^2\n",
    "print((I.value - I1.value)/I.value) # погрешность 6.5% от теории\n",
    "I1 = I1.to(\"г м^2\")\n",
    "I1"
   ]
  },
  {
   "cell_type": "code",
   "execution_count": 68,
   "metadata": {},
   "outputs": [],
   "source": [
    "# for _k in list(df.keys())[0:-1]:\n",
    "#     _v = df[_k]\n",
    "#     _m = _v[:,1]/_v[:,0]\n",
    "#     print(np.mean(_m), np.std(_m))\n",
    "#     # std << 0.001 - пренебречь\n"
   ]
  },
  {
   "cell_type": "code",
   "execution_count": 69,
   "metadata": {},
   "outputs": [
    {
     "data": {
      "text/plain": [
       "uncertainties.core.AffineScalarFunc"
      ]
     },
     "execution_count": 69,
     "metadata": {},
     "output_type": "execute_result"
    }
   ],
   "source": [
    "type(I1.magnitude)"
   ]
  },
  {
   "cell_type": "code",
   "execution_count": 70,
   "metadata": {},
   "outputs": [
    {
     "data": {
      "text/plain": [
       "numpy.ndarray"
      ]
     },
     "execution_count": 70,
     "metadata": {},
     "output_type": "execute_result"
    }
   ],
   "source": [
    "type(np.array([1]))"
   ]
  },
  {
   "cell_type": "code",
   "execution_count": 71,
   "metadata": {},
   "outputs": [],
   "source": [
    "# iter(1)\n"
   ]
  },
  {
   "cell_type": "code",
   "execution_count": 72,
   "metadata": {},
   "outputs": [],
   "source": [
    "\n",
    "\n",
    "# M_(np.array([1, 2, 3]), [3, 4, 5], 'с')"
   ]
  },
  {
   "cell_type": "code",
   "execution_count": 116,
   "metadata": {},
   "outputs": [
    {
     "data": {
      "text/plain": [
       "(array([0.5+/-0.05, 0.5+/-0.05, 0.5+/-0.05, 0.5+/-0.05, 0.5+/-0.05,\n",
       "        0.5+/-0.05, 1.0+/-0.05, 1.0+/-0.05, 1.0+/-0.05, 1.5+/-0.05,\n",
       "        1.5+/-0.05, 1.5+/-0.05, 2.0+/-0.05, 2.0+/-0.05, 2.0+/-0.05,\n",
       "        2.5+/-0.05, 2.5+/-0.05, 2.5+/-0.05, 3.0+/-0.05, 3.0+/-0.05,\n",
       "        3.0+/-0.05, 3.5+/-0.05, 3.5+/-0.05, 3.5+/-0.05, 4.0+/-0.05,\n",
       "        4.0+/-0.05, 4.0+/-0.05, 4.5+/-0.05, 4.5+/-0.05, 4.5+/-0.05],\n",
       "       dtype=object) <Unit('см')>,\n",
       " array([1.7775611579995774+/-0.15414958924267697,\n",
       "        1.8129694390048856+/-0.1541549359158751,\n",
       "        1.7830511132841744+/-0.1541504112816057,\n",
       "        1.7903735868906425+/-0.15415151168147692,\n",
       "        1.7854916161400434+/-0.15415077752922812,\n",
       "        1.76597660032244+/-0.1541478629953598,\n",
       "        1.9583578207507477+/-0.15417800135664522,\n",
       "        1.94850702575219+/-0.15417638209917603,\n",
       "        1.9386613776275494+/-0.15417477188686207,\n",
       "        2.1776233349878167+/-0.15421616733955823,\n",
       "        2.1807383497440656+/-0.1542167388207675,\n",
       "        2.1266088074356118+/-0.15420692487248774,\n",
       "        2.4694699345277344+/-0.15427326826637494,\n",
       "        2.45872371414987+/-0.15427103819832652,\n",
       "        2.4561960361170216+/-0.1542705150676254,\n",
       "        2.809985464304332+/-0.15434897771597403,\n",
       "        2.800984908750979+/-0.15434685075433063,\n",
       "        2.7971287340981155+/-0.1543459415736025,\n",
       "        3.2138439734836544+/-0.1544514369326456,\n",
       "        3.1804374343852304+/-0.15444244083458777,\n",
       "        3.175856304446607+/-0.15444121449460677,\n",
       "        3.756804390175547+/-0.15461080006975297,\n",
       "        3.716521255581225+/-0.15459812672747303,\n",
       "        3.7198754190298553+/-0.15459917677577512,\n",
       "        4.320102880202378+/-0.15480225595207933,\n",
       "        4.341460245675235+/-0.15481003717254013,\n",
       "        4.305645964779727+/-0.1547970104284207,\n",
       "        5.0159562128589466+/-0.15507534932301661,\n",
       "        5.006036940311316+/-0.15507117320037941,\n",
       "        5.028715353510486+/-0.15508073308370096], dtype=object) <Unit('г * м ** 2')>)"
      ]
     },
     "execution_count": 116,
     "metadata": {},
     "output_type": "execute_result"
    }
   ],
   "source": [
    "_df1 = df['раздв диск']\n",
    "t = (_df1[:, 1] / _df1[:, 0]) * u.с\n",
    "d = M_(_df1[:, 2] - 0, 0.1, 'см')/2\n",
    "# d[0] = 13.5\n",
    "Ip =t**2 *(mm+mp)*kk.to(\"м^2/с^2\") - I\n",
    "# Ip, d\n",
    "# _df1\n",
    "d, Ip"
   ]
  },
  {
   "cell_type": "code",
   "execution_count": 74,
   "metadata": {},
   "outputs": [],
   "source": [
    "# def np_split(arr):\n",
    "#     return np.array([(i.n, i.s) for i in arr.magnitude]) * arr.units\n",
    "# np_split(Ip)"
   ]
  },
  {
   "cell_type": "code",
   "execution_count": 75,
   "metadata": {},
   "outputs": [],
   "source": [
    "# def errorbar(x, y):\n",
    "#     x = np_split(x)\n",
    "#     y = np_split(y)\n",
    "#     # print(x[:, 0])\n",
    "#     plt.grid()\n",
    "#     plt.errorbar(x[:, 0], y[:, 0], yerr=y[:, 1], xerr=x[:, 1], fmt='k.')\n",
    "#     plt.gca().xaxis.set_units(x.units)\n",
    "#     plt.gca().yaxis.set_units(y.units)\n",
    "#     # print(x[:, 0])\n",
    "\n",
    "# def plot(x, y):\n",
    "#     x = np_split(x)\n",
    "#     y = np_split(y)\n",
    "#     # print(x[:, 0])\n",
    "#     plt.grid()\n",
    "#     plt.plot(x[:, 0], y[:, 0], 'k.')\n",
    "\n",
    "\n",
    "# def polyfit(x, y):\n",
    "#     x = np_split(x)\n",
    "#     y = np_split(y)\n",
    "#     ((k, b), cov) = np.polyfit(x[:, 0].magnitude, y[:, 0].magnitude, deg=1, w=1/y[:, 1].magnitude, cov=True)\n",
    "#     err = np.sqrt(np.diag(cov))\n",
    "#     return (M_(k, err[0], (1 * y.units * (x.units)**-1)).to_reduced_units(), M_(b, err[1], (1 * y.units)))\n",
    "\n",
    "# def minmax(x):\n",
    "#     x = np_split(x)\n",
    "#     return mk_numpy([x.min(), x.max()], x.units)\n",
    "\n",
    "# polyfit(_x, _y)"
   ]
  },
  {
   "cell_type": "code",
   "execution_count": 76,
   "metadata": {},
   "outputs": [],
   "source": [
    "# polyfit(_x, _y)\n",
    "# k, b, polyfit(_x, _y), minmax(_x)"
   ]
  },
  {
   "cell_type": "code",
   "execution_count": 77,
   "metadata": {},
   "outputs": [],
   "source": [
    "# _xx"
   ]
  },
  {
   "cell_type": "code",
   "execution_count": 117,
   "metadata": {},
   "outputs": [
    {
     "data": {
      "text/plain": [
       "(<Measurement(1596.973015567785, 8.169911866727178, г)>,\n",
       " <Measurement(1.7788205170580922, 0.007977230976383623, г * м ** 2)>)"
      ]
     },
     "execution_count": 117,
     "metadata": {},
     "output_type": "execute_result"
    },
    {
     "data": {
      "image/png": "[encoded data removed]",
      "text/plain": [
       "<Figure size 640x480 with 1 Axes>"
      ]
     },
     "metadata": {},
     "output_type": "display_data"
    }
   ],
   "source": [
    "_x = d*d\n",
    "_y = Ip\n",
    "# k, b = np.polyfit(_x, _y, deg=1)\n",
    "k, b = polyfit(_x, _y)\n",
    "_xx = minmax(_x)\n",
    "# _y\n",
    "# plt.plot(Q_([1, 2, 3], 'с'), Q_([1, 2, 3], 'с'), 'k.')\n",
    "errorbar(_x, _y)\n",
    "# _xa.set_label(\"test\")\n",
    "# _xa.label\n",
    "plt.ylabel(f\"$I, {plt.gca().yaxis.get_units():L}$\")\n",
    "plt.xlabel(f\"$d^2, {plt.gca().xaxis.get_units():L}$\")\n",
    "# errorbar(_x, _y)\n",
    "# plt.set_units('с')\n",
    "# plt.plot(_xx, (_xx - b.value)/k.value, 'k')\n",
    "plt.plot(_xx, _xx * k.value + b.value, 'k')\n",
    "plt.savefig('p7.svg')\n",
    "# print(k, b) #693052.4380749518 142638667.79984942\n",
    "# _xa = plt.gca().xaxis\n",
    "# _xa.get_units()\n",
    "\n",
    "# plt.show()\n",
    "k, b"
   ]
  },
  {
   "cell_type": "code",
   "execution_count": 109,
   "metadata": {},
   "outputs": [
    {
     "data": {
      "text/html": [
       "(1.654 &plusmn; 0.004) г м<sup>2</sup>"
      ],
      "text/latex": [
       "$\\left(1.654 \\pm 0.004\\right)\\ \\mathrm{г} \\cdot \\mathrm{м}^{2}$"
      ],
      "text/plain": [
       "<Measurement(1.6536885760000002, 0.003604397903930142, г * м ** 2)>"
      ]
     },
     "execution_count": 109,
     "metadata": {},
     "output_type": "execute_result"
    }
   ],
   "source": [
    "Ipp = (mp * rp**2/2).to('г м^2')\n",
    "Ipp"
   ]
  },
  {
   "cell_type": "code",
   "execution_count": 112,
   "metadata": {},
   "outputs": [
    {
     "data": {
      "text/html": [
       "(1536.2 &plusmn; 0.5) г"
      ],
      "text/latex": [
       "$\\left(1536.2 \\pm 0.5\\right)\\ \\mathrm{г}$"
      ],
      "text/plain": [
       "<Measurement(1536.2, 0.5, г)>"
      ]
     },
     "execution_count": 112,
     "metadata": {},
     "output_type": "execute_result"
    }
   ],
   "source": [
    "mp"
   ]
  },
  {
   "cell_type": "code",
   "execution_count": 113,
   "metadata": {},
   "outputs": [],
   "source": [
    "save()"
   ]
  }
 ],
 "metadata": {
  "kernelspec": {
   "display_name": "Python 3",
   "language": "python",
   "name": "python3"
  },
  "language_info": {
   "codemirror_mode": {
    "name": "ipython",
    "version": 3
   },
   "file_extension": ".py",
   "mimetype": "text/x-python",
   "name": "python",
   "nbconvert_exporter": "python",
   "pygments_lexer": "ipython3",
   "version": "3.11.5"
  },
  "orig_nbformat": 4
 },
 "nbformat": 4,
 "nbformat_minor": 2
}
