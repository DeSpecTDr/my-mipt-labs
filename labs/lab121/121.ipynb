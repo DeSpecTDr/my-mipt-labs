{
 "cells": [
  {
   "cell_type": "code",
   "execution_count": 1,
   "metadata": {},
   "outputs": [],
   "source": [
    "%run ../utils.ipynb"
   ]
  },
  {
   "cell_type": "code",
   "execution_count": 2,
   "metadata": {},
   "outputs": [],
   "source": [
    "M1 = M_(2925, 5, 'г')\n",
    "L = M_(220, 0.5, 'см')\n",
    "\n",
    "d = M_(130, 0.5, 'см')\n",
    "r = M_(22, 0.2, 'см')\n",
    "R = M_(33, 0.2, 'см')\n",
    "M2 = M_(727.2, 0.5, 'г')\n",
    "\n",
    "g = M_(9.81, 0.01, 'м/с^2')"
   ]
  },
  {
   "cell_type": "code",
   "execution_count": 3,
   "metadata": {},
   "outputs": [
    {
     "data": {
      "text/plain": [
       "{'1':      m\n",
       " 0  502\n",
       " 1  508\n",
       " 2  508\n",
       " 3  487\n",
       " 4  504\n",
       " 5  507\n",
       " 6  516\n",
       " 7  507\n",
       " 8  509\n",
       " 9  499,\n",
       " '2':       dx\n",
       " 0  12.20\n",
       " 1  12.10\n",
       " 2  12.00\n",
       " 3  12.10\n",
       " 4  12.05,\n",
       " '3':     N      t    A\n",
       " 0  10  52.50  6.1\n",
       " 1  10  69.11  4.5\n",
       " 2  10  69.03  4.8\n",
       " 3  10  68.71  4.7\n",
       " 4  10  68.86  4.4}"
      ]
     },
     "execution_count": 3,
     "metadata": {},
     "output_type": "execute_result"
    }
   ],
   "source": [
    "df = pd.read_excel(\"data.ods\", engine=\"odf\", sheet_name=None)\n",
    "df"
   ]
  },
  {
   "cell_type": "code",
   "execution_count": 4,
   "metadata": {},
   "outputs": [
    {
     "data": {
      "text/html": [
       "<table><tbody><tr><th>Magnitude</th><td style='text-align:left;'><pre>[150.108452321018+/-6.16024466841471<br> 147.11965294441842+/-6.087351059729586<br> 145.90378804405134+/-6.087219023249633<br> 153.46362155187796+/-6.349850968287228<br> 147.67451192672883+/-6.135597787268218]</pre></td></tr><tr><th>Units</th><td style='text-align:left;'>м/с</td></tr></tbody></table>"
      ],
      "text/latex": [
       "$\\begin{pmatrix} &  &  &  & \\end{pmatrix}\\ \\frac{\\mathrm{м}}{\\mathrm{с}}$"
      ],
      "text/plain": [
       "array([150.108452321018+/-6.16024466841471,\n",
       "       147.11965294441842+/-6.087351059729586,\n",
       "       145.90378804405134+/-6.087219023249633,\n",
       "       153.46362155187796+/-6.349850968287228,\n",
       "       147.67451192672883+/-6.135597787268218], dtype=object) <Unit('м / с')>"
      ]
     },
     "execution_count": 4,
     "metadata": {},
     "output_type": "execute_result"
    }
   ],
   "source": [
    "m1 = M_(df[\"1\"].to_numpy(), 0.1, 'мг')\n",
    "dx = M_(df[\"2\"].to_numpy(), 0.5, 'мм')\n",
    "u1 = (1/m1[:5]*M1*(g/L)**0.5*dx).to('м/с')\n",
    "u1mean = pint.Measurement(u1.mean())\n",
    "u1"
   ]
  },
  {
   "cell_type": "code",
   "execution_count": 13,
   "metadata": {},
   "outputs": [
    {
     "data": {
      "text/plain": [
       "(array([104.8557836642654+/-2.0162184379651,\n",
       "        113.83160419883956+/-2.1441062605525727,\n",
       "        111.02215522487512+/-2.10489479727714,\n",
       "        106.01851312907957+/-2.0541696073350124], dtype=object) <Unit('м / с')>,\n",
       " <Measurement(108.93201405426491, 1.8090497240749357, м / с)>)"
      ]
     },
     "execution_count": 13,
     "metadata": {},
     "output_type": "execute_result"
    }
   ],
   "source": [
    "T = M_(df[\"3\"][\"t\"], 0.02, 'с') / df[\"3\"][\"N\"].to_numpy()\n",
    "A = M_(df[\"3\"][\"A\"], 0.05, 'см')\n",
    "phi = A / d\n",
    "T1 = T[1:].mean() # TODO: add std\n",
    "T2 = T[0]\n",
    "sqrtkI = (4 * np.pi * M2 * R**2 * T1 / (T1**2-T2**2)).to(\"кг м^2/с\")\n",
    "u2 = (phi[1:] * sqrtkI / r / m1[6:]).to(\"м/с\")\n",
    "u2mean = pint.Measurement(u2.mean())\n",
    "u2, u2mean\n",
    "# sqrtkI.to(\"кг м^2/с\")"
   ]
  },
  {
   "cell_type": "code",
   "execution_count": 6,
   "metadata": {},
   "outputs": [
    {
     "data": {
      "text/plain": [
       "array([[  1, 502],\n",
       "       [  2, 508],\n",
       "       [  3, 508],\n",
       "       [  4, 487],\n",
       "       [  5, 504],\n",
       "       [  6, 507],\n",
       "       [  7, 516],\n",
       "       [  8, 507],\n",
       "       [  9, 509],\n",
       "       [ 10, 499]])"
      ]
     },
     "execution_count": 6,
     "metadata": {},
     "output_type": "execute_result"
    }
   ],
   "source": [
    "table1 = pd.DataFrame({\n",
    "    'Nb': range(1,11),\n",
    "    'm': df[\"1\"][\"m\"],\n",
    "    # 't': df[\"3\"][\"t\"],\n",
    "    # 'dx': unp.nominal_values(A.m),\n",
    "    # 'phi':  unp.nominal_values(phi.m),\n",
    "    # 'u1': unp.nominal_values(u1.m)\n",
    "}).to_numpy()\n",
    "table1"
   ]
  },
  {
   "cell_type": "code",
   "execution_count": 7,
   "metadata": {},
   "outputs": [
    {
     "data": {
      "text/plain": [
       "array([[1, 12.2, 150.108452321018+/-6.16024466841471],\n",
       "       [2, 12.1, 147.11965294441842+/-6.087351059729586],\n",
       "       [3, 12.0, 145.90378804405134+/-6.087219023249633],\n",
       "       [4, 12.1, 153.46362155187796+/-6.349850968287228],\n",
       "       [5, 12.05, 147.67451192672883+/-6.135597787268218]], dtype=object)"
      ]
     },
     "execution_count": 7,
     "metadata": {},
     "output_type": "execute_result"
    }
   ],
   "source": [
    "table2 = pd.DataFrame({\n",
    "    'Nb': range(1,6),\n",
    "    'dx': df[\"2\"][\"dx\"],\n",
    "    # 't': df[\"3\"][\"t\"],\n",
    "    # 'dx': unp.nominal_values(A.m),\n",
    "    # 'phi':  unp.nominal_values(phi.m),\n",
    "    'u1': u1.m\n",
    "}).to_numpy()\n",
    "table2"
   ]
  },
  {
   "cell_type": "code",
   "execution_count": 8,
   "metadata": {},
   "outputs": [
    {
     "name": "stderr",
     "output_type": "stream",
     "text": [
      "/nix/store/nrixknxpg35wdd9c4iw8x1b0jq53h6i5-python3-3.11.5-env/lib/python3.11/site-packages/pandas/core/construction.py:616: UnitStrippedWarning: The unit of the quantity is stripped when downcasting to ndarray.\n",
      "  data = np.array(data, copy=copy)\n"
     ]
    },
    {
     "data": {
      "text/plain": [
       "array([[6, 10, 52.5, 5.25, 6.1, 0.04692307692307692, nan],\n",
       "       [7, 10, 69.11, 6.911, 4.5, 0.03461538461538462,\n",
       "        104.8557836642654+/-2.0162184379651],\n",
       "       [8, 10, 69.03, 6.9030000000000005, 4.8, 0.03692307692307692,\n",
       "        113.83160419883956+/-2.1441062605525727],\n",
       "       [9, 10, 68.71, 6.8709999999999996, 4.7, 0.036153846153846154,\n",
       "        111.02215522487512+/-2.10489479727714],\n",
       "       [10, 10, 68.86, 6.886, 4.4, 0.03384615384615385,\n",
       "        106.01851312907957+/-2.0541696073350124]], dtype=object)"
      ]
     },
     "execution_count": 8,
     "metadata": {},
     "output_type": "execute_result"
    }
   ],
   "source": [
    "table3 = pd.DataFrame({\n",
    "    'Nb': range(6,11),\n",
    "    'N': [10]*5,\n",
    "    't': df[\"3\"][\"t\"],\n",
    "    'T': unp.nominal_values(T.m),\n",
    "    'dx': unp.nominal_values(A.m),\n",
    "    'phi':  unp.nominal_values(phi.m),\n",
    "    'u2': np.concatenate(([np.nan * u(\"м/с\")], u2))\n",
    "}).to_numpy()\n",
    "table3"
   ]
  },
  {
   "cell_type": "code",
   "execution_count": 9,
   "metadata": {},
   "outputs": [],
   "source": [
    "# T"
   ]
  },
  {
   "cell_type": "code",
   "execution_count": 10,
   "metadata": {},
   "outputs": [],
   "source": [
    "# pd.DataFrame()"
   ]
  },
  {
   "cell_type": "code",
   "execution_count": 11,
   "metadata": {},
   "outputs": [],
   "source": [
    "# pint.Measurement(u1mean)"
   ]
  },
  {
   "cell_type": "code",
   "execution_count": 12,
   "metadata": {},
   "outputs": [],
   "source": [
    "save()"
   ]
  }
 ],
 "metadata": {
  "kernelspec": {
   "display_name": "Python 3",
   "language": "python",
   "name": "python3"
  },
  "language_info": {
   "codemirror_mode": {
    "name": "ipython",
    "version": 3
   },
   "file_extension": ".py",
   "mimetype": "text/x-python",
   "name": "python",
   "nbconvert_exporter": "python",
   "pygments_lexer": "ipython3",
   "version": "3.11.5"
  }
 },
 "nbformat": 4,
 "nbformat_minor": 2
}
