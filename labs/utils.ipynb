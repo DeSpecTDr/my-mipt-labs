{
 "cells": [
  {
   "cell_type": "code",
   "execution_count": null,
   "metadata": {},
   "outputs": [],
   "source": [
    "import numpy as np\n",
    "import matplotlib.pyplot as plt\n",
    "import pandas as pd\n",
    "\n",
    "def save():\n",
    "    import inspect\n",
    "    import toml\n",
    "    with open('data.toml', 'w') as _f:\n",
    "        _vars = %who_ls\n",
    "        _d = {\n",
    "            k: v\n",
    "            for k in _vars\n",
    "            if not inspect.ismodule((v := globals()[k]))\n",
    "            and not inspect.isfunction(v)\n",
    "            and not k.startswith('_')\n",
    "            and not repr(v).startswith('<')\n",
    "            and type(v) != pd.DataFrame\n",
    "        }\n",
    "        toml.dump(_d, _f, encoder=toml.TomlNumpyEncoder())"
   ]
  }
 ],
 "metadata": {
  "language_info": {
   "name": "python"
  },
  "orig_nbformat": 4
 },
 "nbformat": 4,
 "nbformat_minor": 2
}
