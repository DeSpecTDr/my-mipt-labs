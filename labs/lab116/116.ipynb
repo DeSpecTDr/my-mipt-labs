{
 "cells": [
  {
   "cell_type": "code",
   "execution_count": 1,
   "metadata": {},
   "outputs": [],
   "source": [
    "%run ../utils.ipynb"
   ]
  },
  {
   "cell_type": "code",
   "execution_count": 16,
   "metadata": {},
   "outputs": [
    {
     "data": {
      "text/html": [
       "<div>\n",
       "<style scoped>\n",
       "    .dataframe tbody tr th:only-of-type {\n",
       "        vertical-align: middle;\n",
       "    }\n",
       "\n",
       "    .dataframe tbody tr th {\n",
       "        vertical-align: top;\n",
       "    }\n",
       "\n",
       "    .dataframe thead tr th {\n",
       "        text-align: left;\n",
       "    }\n",
       "</style>\n",
       "<table border=\"1\" class=\"dataframe\">\n",
       "  <thead>\n",
       "    <tr>\n",
       "      <th></th>\n",
       "      <th>nu</th>\n",
       "      <th>U</th>\n",
       "      <th>type</th>\n",
       "      <th>K</th>\n",
       "    </tr>\n",
       "    <tr>\n",
       "      <th></th>\n",
       "      <th>nu</th>\n",
       "      <th>U</th>\n",
       "      <th>\"Режим\"</th>\n",
       "      <th>K</th>\n",
       "    </tr>\n",
       "    <tr>\n",
       "      <th>unit</th>\n",
       "      <th>\"Гц\"</th>\n",
       "      <th>\"В\"</th>\n",
       "      <th>No Unit</th>\n",
       "      <th>No Unit</th>\n",
       "    </tr>\n",
       "  </thead>\n",
       "  <tbody>\n",
       "    <tr>\n",
       "      <th>0</th>\n",
       "      <td>10</td>\n",
       "      <td>10.3</td>\n",
       "      <td>DC</td>\n",
       "      <td>1.03</td>\n",
       "    </tr>\n",
       "    <tr>\n",
       "      <th>1</th>\n",
       "      <td>10</td>\n",
       "      <td>10.1</td>\n",
       "      <td>AC</td>\n",
       "      <td>1.01</td>\n",
       "    </tr>\n",
       "    <tr>\n",
       "      <th>2</th>\n",
       "      <td>1</td>\n",
       "      <td>10.8</td>\n",
       "      <td>DC</td>\n",
       "      <td>1.08</td>\n",
       "    </tr>\n",
       "    <tr>\n",
       "      <th>3</th>\n",
       "      <td>1</td>\n",
       "      <td>3.1</td>\n",
       "      <td>AC</td>\n",
       "      <td>0.31</td>\n",
       "    </tr>\n",
       "    <tr>\n",
       "      <th>4</th>\n",
       "      <td>5</td>\n",
       "      <td>10.4</td>\n",
       "      <td>DC</td>\n",
       "      <td>1.04</td>\n",
       "    </tr>\n",
       "    <tr>\n",
       "      <th>5</th>\n",
       "      <td>5</td>\n",
       "      <td>9.0</td>\n",
       "      <td>AC</td>\n",
       "      <td>0.90</td>\n",
       "    </tr>\n",
       "  </tbody>\n",
       "</table>\n",
       "</div>"
      ],
      "text/plain": [
       "       nu     U    type       K\n",
       "       nu     U \"Режим\"       K\n",
       "unit \"Гц\"   \"В\" No Unit No Unit\n",
       "0      10  10.3      DC    1.03\n",
       "1      10  10.1      AC    1.01\n",
       "2       1  10.8      DC    1.08\n",
       "3       1   3.1      AC    0.31\n",
       "4       5  10.4      DC    1.04\n",
       "5       5   9.0      AC    0.90"
      ]
     },
     "execution_count": 16,
     "metadata": {},
     "output_type": "execute_result"
    }
   ],
   "source": [
    "df1, df2, df3, df4 = load(\"data.ods\").values()\n",
    "# df1\n",
    "# df1['Ts'] = df1.T * df1.TD\n",
    "df1['Ts'] = df1['T']*df1.TD\n",
    "df1['nu'] = (1/df1.Ts).pint.to('Гц')\n",
    "df1['dnu'] = (0.1 * df1.TD / u.с**2).pint.to('Гц')\n",
    "df1['difnu'] = df1.nu1 - df1.nu\n",
    "# t = df1.dtypes[0]\n",
    "# f\"{t.units:typst}\"\n",
    "make_cols(df1, ['nu_\"зг\"', 'T, \"дел\"', '\"Time\" slash \"Div\"', 'T', 'nu', 'delta nu', 'nu-nu_\"зг\"'])\n",
    "df1 = df1.pint.dequantify()\n",
    "df1\n",
    "# mu = 1/Ts\n",
    "#     dmu = 0.1 * TD\n",
    "#     difmu = mu1 - mu\n",
    "\n",
    "df4['lg'] = np.log10(df4.nu.values.quantity.m)\n",
    "df4['arcsin'] = PA_(np.arcsin((df4.y0/df4.Ay)), u.рад)\n",
    "df4['dphi'] = df4.arcsin\n",
    "make_cols(df4, ['nu', 'lg nu, lg \"Гц\"', 'abs(2 y_0), \"дел\"', 'abs(2 A_y), \"дел\"', 'arcsin(y_0/A_y)', 'Delta phi'])\n",
    "df4 = df4.pint.dequantify()\n",
    "# df4\n",
    "\n",
    "df2['K'] = df2.U/5\n",
    "df2.U = PA_(df2.U * 2, u.В)\n",
    "make_cols(df2, ['nu', 'U', 'K'])\n",
    "df2 = df2.pint.dequantify()\n",
    "# df2\n",
    "\n",
    "df3['K'] = df3.U/5\n",
    "df3.U = PA_(df3.U * 2, u.В)\n",
    "make_cols(df3, ['nu', 'U', '\"Режим\"', 'K'])\n",
    "df3 = df3.pint.dequantify()\n",
    "df3"
   ]
  },
  {
   "cell_type": "code",
   "execution_count": 20,
   "metadata": {},
   "outputs": [],
   "source": [
    "save()"
   ]
  },
  {
   "cell_type": "code",
   "execution_count": 21,
   "metadata": {},
   "outputs": [],
   "source": [
    "Umax = M_(4, 0.1, \"В\") * 5\n",
    "Umin = M_(2, 0.1, \"В\") * 0.005"
   ]
  },
  {
   "cell_type": "code",
   "execution_count": 4,
   "metadata": {},
   "outputs": [
    {
     "data": {
      "text/plain": [
       "array([[1.00e+03, 5.15e+00, 2.00e-04],\n",
       "       [1.00e+02, 5.15e+00, 2.00e-03],\n",
       "       [1.00e+06, 5.10e+00, 2.00e-07],\n",
       "       [1.00e+05, 5.10e+00, 2.00e-06],\n",
       "       [1.00e+04, 5.10e+00, 2.00e-05]])"
      ]
     },
     "execution_count": 4,
     "metadata": {},
     "output_type": "execute_result"
    }
   ],
   "source": [
    "df1 = df['1'].to_numpy()\n",
    "df1\n",
    "# df1['T, с'] = df1['T, дел'] * df1['Time/Div']\n",
    "# df1['']"
   ]
  },
  {
   "cell_type": "code",
   "execution_count": 6,
   "metadata": {},
   "outputs": [
    {
     "data": {
      "text/html": [
       "<div>\n",
       "<style scoped>\n",
       "    .dataframe tbody tr th:only-of-type {\n",
       "        vertical-align: middle;\n",
       "    }\n",
       "\n",
       "    .dataframe tbody tr th {\n",
       "        vertical-align: top;\n",
       "    }\n",
       "\n",
       "    .dataframe thead th {\n",
       "        text-align: right;\n",
       "    }\n",
       "</style>\n",
       "<table border=\"1\" class=\"dataframe\">\n",
       "  <thead>\n",
       "    <tr style=\"text-align: right;\">\n",
       "      <th></th>\n",
       "      <th>mu</th>\n",
       "      <th>U</th>\n",
       "    </tr>\n",
       "  </thead>\n",
       "  <tbody>\n",
       "    <tr>\n",
       "      <th>0</th>\n",
       "      <td>10000000</td>\n",
       "      <td>5.0</td>\n",
       "    </tr>\n",
       "    <tr>\n",
       "      <th>1</th>\n",
       "      <td>20000000</td>\n",
       "      <td>4.4</td>\n",
       "    </tr>\n",
       "    <tr>\n",
       "      <th>2</th>\n",
       "      <td>25000000</td>\n",
       "      <td>3.6</td>\n",
       "    </tr>\n",
       "    <tr>\n",
       "      <th>3</th>\n",
       "      <td>28000000</td>\n",
       "      <td>3.3</td>\n",
       "    </tr>\n",
       "    <tr>\n",
       "      <th>4</th>\n",
       "      <td>30000000</td>\n",
       "      <td>3.1</td>\n",
       "    </tr>\n",
       "  </tbody>\n",
       "</table>\n",
       "</div>"
      ],
      "text/plain": [
       "         mu    U\n",
       "0  10000000  5.0\n",
       "1  20000000  4.4\n",
       "2  25000000  3.6\n",
       "3  28000000  3.3\n",
       "4  30000000  3.1"
      ]
     },
     "execution_count": 6,
     "metadata": {},
     "output_type": "execute_result"
    }
   ],
   "source": [
    "df2 = df[\"2\"]\n",
    "df2"
   ]
  },
  {
   "cell_type": "code",
   "execution_count": 100,
   "metadata": {},
   "outputs": [
    {
     "data": {
      "image/png": "[encoded data removed]",
      "text/plain": [
       "<Figure size 640x480 with 1 Axes>"
      ]
     },
     "metadata": {},
     "output_type": "display_data"
    }
   ],
   "source": [
    "plt.plot()\n",
    "g = plt.gca()\n",
    "g.xaxis.set_ticklabels([])\n",
    "g.yaxis.set_ticklabels([])\n",
    "plt.savefig('empty.svg')\n",
    "_x = np.linspace(-5, 5, 1000)\n",
    "plt.plot(x, np.cbrt(np.cos(_x)))\n",
    "plt.savefig('path2.svg')"
   ]
  },
  {
   "cell_type": "code",
   "execution_count": 20,
   "metadata": {},
   "outputs": [
    {
     "data": {
      "image/png": "[encoded data removed]",
      "text/plain": [
       "<Figure size 640x480 with 6 Axes>"
      ]
     },
     "metadata": {},
     "output_type": "display_data"
    }
   ],
   "source": [
    "\n",
    "plt.rcParams.update({'font.size': 8})\n",
    "\n",
    "rats = [\n",
    "    (1,1,np.pi/2), (1,2,np.pi/2), (1,3,np.pi/2), (2,3,np.pi/2), (4,3,np.pi/2), (5,2,np.pi/4)\n",
    "]\n",
    "\n",
    "fig, axs = plt.subplots(3, 2)\n",
    "\n",
    "for (a, b), ax in np.ndenumerate(axs):\n",
    "    t = np.linspace(0, 2 * np.pi, 5000)\n",
    "    rat = rats[a * 2 + b]\n",
    "    y = np.sin(t * rat[0]+ rat[2])\n",
    "    x = np.sin(t * rat[1])\n",
    "    ax.set_aspect(1)\n",
    "    ax.set_xticks([])\n",
    "    ax.set_yticks([])\n",
    "    ax.plot(x, y)\n",
    "    ax.set_title(f\"{rat[0]}:{rat[1]}\", y=-0.2)\n",
    "\n",
    "# plt.savefig(\"plt1.svg\")\n",
    "plt.rcParams.update({'font.size': 14})"
   ]
  },
  {
   "cell_type": "code",
   "execution_count": 16,
   "metadata": {},
   "outputs": [
    {
     "data": {
      "text/html": [
       "<div>\n",
       "<style scoped>\n",
       "    .dataframe tbody tr th:only-of-type {\n",
       "        vertical-align: middle;\n",
       "    }\n",
       "\n",
       "    .dataframe tbody tr th {\n",
       "        vertical-align: top;\n",
       "    }\n",
       "\n",
       "    .dataframe thead th {\n",
       "        text-align: right;\n",
       "    }\n",
       "</style>\n",
       "<table border=\"1\" class=\"dataframe\">\n",
       "  <thead>\n",
       "    <tr style=\"text-align: right;\">\n",
       "      <th></th>\n",
       "      <th>nu</th>\n",
       "      <th>y0</th>\n",
       "      <th>Ay</th>\n",
       "      <th>lg</th>\n",
       "      <th>arcsin</th>\n",
       "      <th>dphi</th>\n",
       "    </tr>\n",
       "  </thead>\n",
       "  <tbody>\n",
       "    <tr>\n",
       "      <th>0</th>\n",
       "      <td>10000</td>\n",
       "      <td>0.00</td>\n",
       "      <td>8.0</td>\n",
       "      <td>4.000000</td>\n",
       "      <td>0.000000</td>\n",
       "      <td>0.000000</td>\n",
       "    </tr>\n",
       "    <tr>\n",
       "      <th>1</th>\n",
       "      <td>100000</td>\n",
       "      <td>0.40</td>\n",
       "      <td>7.9</td>\n",
       "      <td>5.000000</td>\n",
       "      <td>0.050655</td>\n",
       "      <td>0.050655</td>\n",
       "    </tr>\n",
       "    <tr>\n",
       "      <th>2</th>\n",
       "      <td>200000</td>\n",
       "      <td>0.80</td>\n",
       "      <td>7.8</td>\n",
       "      <td>5.301030</td>\n",
       "      <td>0.102745</td>\n",
       "      <td>0.102745</td>\n",
       "    </tr>\n",
       "    <tr>\n",
       "      <th>3</th>\n",
       "      <td>400000</td>\n",
       "      <td>1.60</td>\n",
       "      <td>7.8</td>\n",
       "      <td>5.602060</td>\n",
       "      <td>0.206595</td>\n",
       "      <td>0.206595</td>\n",
       "    </tr>\n",
       "    <tr>\n",
       "      <th>4</th>\n",
       "      <td>600000</td>\n",
       "      <td>2.50</td>\n",
       "      <td>7.8</td>\n",
       "      <td>5.778151</td>\n",
       "      <td>0.326271</td>\n",
       "      <td>0.326271</td>\n",
       "    </tr>\n",
       "    <tr>\n",
       "      <th>5</th>\n",
       "      <td>800000</td>\n",
       "      <td>3.40</td>\n",
       "      <td>7.7</td>\n",
       "      <td>5.903090</td>\n",
       "      <td>0.457335</td>\n",
       "      <td>0.457335</td>\n",
       "    </tr>\n",
       "    <tr>\n",
       "      <th>6</th>\n",
       "      <td>1000000</td>\n",
       "      <td>4.40</td>\n",
       "      <td>7.7</td>\n",
       "      <td>6.000000</td>\n",
       "      <td>0.608246</td>\n",
       "      <td>0.608246</td>\n",
       "    </tr>\n",
       "    <tr>\n",
       "      <th>7</th>\n",
       "      <td>1200000</td>\n",
       "      <td>5.05</td>\n",
       "      <td>7.7</td>\n",
       "      <td>6.079181</td>\n",
       "      <td>0.715300</td>\n",
       "      <td>0.715300</td>\n",
       "    </tr>\n",
       "    <tr>\n",
       "      <th>8</th>\n",
       "      <td>1400000</td>\n",
       "      <td>5.80</td>\n",
       "      <td>7.7</td>\n",
       "      <td>6.146128</td>\n",
       "      <td>0.852984</td>\n",
       "      <td>0.852984</td>\n",
       "    </tr>\n",
       "    <tr>\n",
       "      <th>9</th>\n",
       "      <td>1600000</td>\n",
       "      <td>6.70</td>\n",
       "      <td>7.8</td>\n",
       "      <td>6.204120</td>\n",
       "      <td>1.033263</td>\n",
       "      <td>1.033263</td>\n",
       "    </tr>\n",
       "    <tr>\n",
       "      <th>10</th>\n",
       "      <td>1800000</td>\n",
       "      <td>7.70</td>\n",
       "      <td>7.8</td>\n",
       "      <td>6.255273</td>\n",
       "      <td>1.410497</td>\n",
       "      <td>1.410497</td>\n",
       "    </tr>\n",
       "  </tbody>\n",
       "</table>\n",
       "</div>"
      ],
      "text/plain": [
       "         nu    y0   Ay        lg    arcsin      dphi\n",
       "0     10000  0.00  8.0  4.000000  0.000000  0.000000\n",
       "1    100000  0.40  7.9  5.000000  0.050655  0.050655\n",
       "2    200000  0.80  7.8  5.301030  0.102745  0.102745\n",
       "3    400000  1.60  7.8  5.602060  0.206595  0.206595\n",
       "4    600000  2.50  7.8  5.778151  0.326271  0.326271\n",
       "5    800000  3.40  7.7  5.903090  0.457335  0.457335\n",
       "6   1000000  4.40  7.7  6.000000  0.608246  0.608246\n",
       "7   1200000  5.05  7.7  6.079181  0.715300  0.715300\n",
       "8   1400000  5.80  7.7  6.146128  0.852984  0.852984\n",
       "9   1600000  6.70  7.8  6.204120  1.033263  1.033263\n",
       "10  1800000  7.70  7.8  6.255273  1.410497  1.410497"
      ]
     },
     "execution_count": 16,
     "metadata": {},
     "output_type": "execute_result"
    }
   ],
   "source": []
  },
  {
   "cell_type": "code",
   "execution_count": 10,
   "metadata": {},
   "outputs": [
    {
     "data": {
      "image/png": "[encoded data removed]",
      "text/plain": [
       "<Figure size 640x480 with 1 Axes>"
      ]
     },
     "metadata": {},
     "output_type": "display_data"
    }
   ],
   "source": [
    "plt.plot(df4['nu'], df4['dphi'], '.')\n",
    "plt.plot(df4['nu'], df4['dphi'], '-')\n",
    "plt.xlabel(\"$\\lg \\\\nu, Гц$\")\n",
    "plt.ylabel(\"$\\phi, рад$\")\n",
    "plt.xscale(\"log\")\n",
    "plt.savefig('plt2.svg')"
   ]
  },
  {
   "cell_type": "code",
   "execution_count": 6,
   "metadata": {},
   "outputs": [],
   "source": [
    "save()"
   ]
  }
 ],
 "metadata": {
  "kernelspec": {
   "display_name": "Python 3",
   "language": "python",
   "name": "python3"
  },
  "language_info": {
   "codemirror_mode": {
    "name": "ipython",
    "version": 3
   },
   "file_extension": ".py",
   "mimetype": "text/x-python",
   "name": "python",
   "nbconvert_exporter": "python",
   "pygments_lexer": "ipython3",
   "version": "3.11.6"
  }
 },
 "nbformat": 4,
 "nbformat_minor": 2
}
