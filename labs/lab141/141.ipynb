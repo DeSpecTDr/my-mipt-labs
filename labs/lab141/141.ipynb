{
 "cells": [
  {
   "cell_type": "code",
   "execution_count": 2,
   "metadata": {},
   "outputs": [],
   "source": [
    "%run ../utils.ipynb\n",
    "# %matplotlib widget"
   ]
  },
  {
   "cell_type": "code",
   "execution_count": 3,
   "metadata": {},
   "outputs": [],
   "source": [
    "# fig = plt.figure()\n",
    "# ax = fig.add_subplot(projection='3d')\n",
    "\n",
    "# a = -1.000000000001\n",
    "# x = np.linspace(a + 0j, 1 + 0j, 100).astype(np.complex128)\n",
    "# y = np.linspace(a + 0j, 1 + 0j, 100).astype(np.complex128)\n",
    "# x, y = np.meshgrid(x, y)\n",
    "# z = x ** y\n",
    "\n",
    "# ax.plot_surface(x, y, z)\n",
    "# ax.set_xlim(0, 1)\n",
    "# ax.set_ylim(0, 1)\n",
    "# ax.set_zlim(0, 1)\n",
    "# ax.set_xlabel('X')\n",
    "# ax.set_ylabel('Y')\n",
    "# ax.set_zlabel('Z')\n",
    "\n",
    "# ax.view_init(elev=50., azim=50, roll=0)\n",
    "# ax.set_aspect('equal')\n",
    "\n",
    "# plt.plot(x, y, c=np.real(z))"
   ]
  },
  {
   "cell_type": "code",
   "execution_count": 4,
   "metadata": {},
   "outputs": [],
   "source": [
    "dlin = 0.1\n",
    "l = 100.01; dl = 0.01 # [cm] длина стержня\n",
    "x_cm = 50; dx_cm = 0.05 # [cm] координаты центра масс\n",
    "a = 24.4; da = 0.05 # [cm] расстояние от цм до острия призмы\n",
    "xp_cm = 52.1; dxp_cm = 0.05 # [cm] координаты центра масс вместе с призмой\n",
    "\n",
    "m_pr = 78.4 # [g] масса призмы\n",
    "m_wt = 291.0 # [g] масса доп. груза\n",
    "m_rod = 891.7 # [g] масса стержня\n",
    "dm = 0.1 # [g] погрешность весов???????\n",
    "\n",
    "lpriv = a + l*l/12/a # [cm] приведённая длина\n",
    "\n",
    "dT = 0.01 # [s] погрешность секундомера\n",
    "\n",
    "J0 = m_rod * (l * l / 12 + a * a) # [g * cm^2]\n",
    "nQ = 580 # количество колебаний до уменьшения амплитуды в 2 раза\n",
    "Q = np.pi * nQ / np.log(2) # добротность"
   ]
  },
  {
   "cell_type": "code",
   "execution_count": 5,
   "metadata": {},
   "outputs": [],
   "source": [
    "t1 = np.array([30.77, 30.77, 30.77, 30.78])"
   ]
  },
  {
   "cell_type": "code",
   "execution_count": 6,
   "metadata": {},
   "outputs": [
    {
     "data": {
      "text/plain": [
       "30.7725"
      ]
     },
     "execution_count": 6,
     "metadata": {},
     "output_type": "execute_result"
    }
   ],
   "source": [
    "t1_mean, t1_sigma = t1.mean(), t1.std() * len(t1) / (len(t1)-1)\n",
    "t1_mean"
   ]
  },
  {
   "cell_type": "code",
   "execution_count": 7,
   "metadata": {},
   "outputs": [],
   "source": [
    "dt1 = (t1_sigma**2 + 0.01**2)**0.5"
   ]
  },
  {
   "cell_type": "code",
   "execution_count": 8,
   "metadata": {},
   "outputs": [
    {
     "data": {
      "text/plain": [
       "1.5386250000000001"
      ]
     },
     "execution_count": 8,
     "metadata": {},
     "output_type": "execute_result"
    }
   ],
   "source": [
    "T1, dT1 = t1_mean / 20, dt1 / 20\n",
    "T1"
   ]
  },
  {
   "cell_type": "code",
   "execution_count": 9,
   "metadata": {},
   "outputs": [
    {
     "data": {
      "text/plain": [
       "9.76548960652295"
      ]
     },
     "execution_count": 9,
     "metadata": {},
     "output_type": "execute_result"
    }
   ],
   "source": [
    "g = (l*l/12 + a*a) / ((T1 / 2 / np.pi)**2 * a) / 100\n",
    "g"
   ]
  },
  {
   "cell_type": "code",
   "execution_count": 10,
   "metadata": {},
   "outputs": [
    {
     "data": {
      "text/plain": [
       "array([[10.  , 28.6 , 14.9 , 14.9 , 14.9 ],\n",
       "       [10.  , 29.3 , 15.04, 15.04, 15.04],\n",
       "       [10.  , 29.8 , 15.13, 15.13, 15.14],\n",
       "       [10.  , 22.7 , 14.23, 14.23, 14.23],\n",
       "       [10.  , 11.3 , 20.08, 20.08, 20.08],\n",
       "       [10.  , 15.8 , 16.09, 16.09, 16.09],\n",
       "       [10.  , 18.5 , 14.82, 14.82, 14.82],\n",
       "       [10.  , 33.6 , 16.15, 16.15, 16.15]])"
      ]
     },
     "execution_count": 10,
     "metadata": {},
     "output_type": "execute_result"
    }
   ],
   "source": [
    "df = pd.read_excel(\"data.ods\", engine=\"odf\").to_numpy()\n",
    "df"
   ]
  },
  {
   "cell_type": "code",
   "execution_count": 11,
   "metadata": {},
   "outputs": [
    {
     "data": {
      "text/plain": [
       "(array([28.6, 29.3, 29.8, 22.7, 11.3, 15.8, 18.5, 33.6]),\n",
       " array([0.05, 0.05, 0.05, 0.05, 0.05, 0.05, 0.05, 0.05]),\n",
       " array([1.49      , 1.504     , 1.51333333, 1.423     , 2.008     ,\n",
       "        1.609     , 1.482     , 1.615     ]),\n",
       " array([0.001     , 0.001     , 0.00110554, 0.001     , 0.001     ,\n",
       "        0.001     , 0.001     , 0.001     ]))"
      ]
     },
     "execution_count": 11,
     "metadata": {},
     "output_type": "execute_result"
    }
   ],
   "source": [
    "d = df[:, 1]\n",
    "dd = d * 0 + 0.05\n",
    "Tm = (df[:, 2] + df[:, 3] + df[:, 4]) / 3 / df[:, 0]\n",
    "dTm = np.array([(0.01**2+np.std(i[2:])**2)**0.5/i[0] for i in df])\n",
    "\n",
    "d, dd, Tm, dTm"
   ]
  },
  {
   "cell_type": "code",
   "execution_count": 12,
   "metadata": {},
   "outputs": [
    {
     "data": {
      "text/plain": [
       "(9.443276943631702,\n",
       " 0.6981755181807663,\n",
       " array([ 42.6014433 ,  45.63501718,  47.80185567,  17.03274914,\n",
       "        -32.37116838, -12.86962199,  -1.16869416,  64.26982818]),\n",
       " array([12.39432736, 12.69768448, 12.91436815,  9.83746086,  4.89708335,\n",
       "         6.84722991,  8.01731973, 14.56116418]))"
      ]
     },
     "execution_count": 12,
     "metadata": {},
     "output_type": "execute_result"
    }
   ],
   "source": [
    "m0 = m_rod + m_pr\n",
    "M = m0 + m_wt\n",
    "y = (M * d - m0 * a) / m_wt\n",
    "dy = ((M * d  / m_wt)**2 + (0.05 * m0  / m_wt)**2)**0.5 / 10\n",
    "g = 4 * np.pi**2 * (J0 + m_wt * y**2)/(Tm**2 * (m0 + m_wt) * d) / 100\n",
    "gmean = g.mean()\n",
    "gstd = g.std()\n",
    "(g.mean(), g.std(), y, dy)\n"
   ]
  },
  {
   "cell_type": "code",
   "execution_count": 13,
   "metadata": {},
   "outputs": [
    {
     "data": {
      "image/png": "[encoded data removed]",
      "text/plain": [
       "<Figure size 640x480 with 1 Axes>"
      ]
     },
     "metadata": {},
     "output_type": "display_data"
    }
   ],
   "source": [
    "xx = np.linspace(min(y)-1, max(y)+5, 20)\n",
    "plt.plot(xx, np.polyval(np.polyfit(y, Tm, deg=3), xx), 'k--', alpha=0.7)\n",
    "plt.errorbar(y, Tm, dTm, dy, 'k.')\n",
    "plt.xlabel(\"$y, см$\")\n",
    "plt.ylabel(\"$T, с$\")\n",
    "plt.savefig(\"p14.svg\")"
   ]
  },
  {
   "cell_type": "code",
   "execution_count": 14,
   "metadata": {},
   "outputs": [
    {
     "data": {
      "text/plain": [
       "17.03274914089347"
      ]
     },
     "execution_count": 14,
     "metadata": {},
     "output_type": "execute_result"
    }
   ],
   "source": [
    "ymin = y[np.argmin(Tm)]\n",
    "ymin"
   ]
  },
  {
   "cell_type": "code",
   "execution_count": 40,
   "metadata": {},
   "outputs": [
    {
     "data": {
      "image/png": "[encoded data removed]",
      "text/plain": [
       "<Figure size 640x480 with 1 Axes>"
      ]
     },
     "metadata": {},
     "output_type": "display_data"
    }
   ],
   "source": [
    "xx = y**2\n",
    "yy = Tm ** 2 * d\n",
    "\n",
    "# (k, b), cov, *_ = np.polyfit(xx, yy, deg=1, full=True)\n",
    "\n",
    "k = (np.mean(xx*yy) - np.mean(xx)*np.mean(yy))/(np.mean(xx**2)-np.mean(xx)**2)\n",
    "b = np.mean(yy) - k*np.mean(xx)\n",
    "\n",
    "plt.errorbar(y**2, Tm ** 2 * d, 0, abs(y*dy), 'k.')\n",
    "_x = np.array([0, max(xx)])\n",
    "plt.plot(_x, _x * k + b, 'k')\n",
    "plt.xlabel(\"$y^2, см^2$\")\n",
    "plt.ylabel(\"$T^2 \\cdot x_ц , с^2 \\cdot см $\")\n",
    "plt.savefig('p15.svg')"
   ]
  },
  {
   "cell_type": "code",
   "execution_count": 16,
   "metadata": {},
   "outputs": [
    {
     "data": {
      "text/plain": [
       "20.671775944415923"
      ]
     },
     "execution_count": 16,
     "metadata": {},
     "output_type": "execute_result"
    }
   ],
   "source": [
    "db = ((sum(yy*yy)/sum(xx*xx)-k*k)/(len(xx)-1))**0.5 * (np.mean(xx**2))**0.5\n",
    "db"
   ]
  },
  {
   "cell_type": "code",
   "execution_count": 41,
   "metadata": {},
   "outputs": [
    {
     "data": {
      "text/plain": [
       "1.7459847630710923"
      ]
     },
     "execution_count": 41,
     "metadata": {},
     "output_type": "execute_result"
    }
   ],
   "source": [
    "dk = ((((yy*yy).mean()-yy.mean()**2)/((xx*xx).mean()-xx.mean()**2)-k*k)/(len(xx)-2))**0.5\n",
    "db = dk * (np.mean(xx**2))**0.5\n",
    "db"
   ]
  },
  {
   "cell_type": "code",
   "execution_count": 25,
   "metadata": {},
   "outputs": [
    {
     "data": {
      "text/plain": [
       "(9.99997570271999, 0.4377456010972236)"
      ]
     },
     "execution_count": 25,
     "metadata": {},
     "output_type": "execute_result"
    }
   ],
   "source": [
    "g1 = b / J0 / 4 / np.pi**2 * M * 100**2#[cm^2] # m / s^2\n",
    "dg1 = db  / J0 / 4 / np.pi**2 * M * 100**2\n",
    "g1, dg1"
   ]
  },
  {
   "cell_type": "code",
   "execution_count": 19,
   "metadata": {},
   "outputs": [
    {
     "data": {
      "text/plain": [
       "0.0012970068707470297"
      ]
     },
     "execution_count": 19,
     "metadata": {},
     "output_type": "execute_result"
    }
   ],
   "source": [
    "k / m_wt * M / 4 / np.pi**2"
   ]
  },
  {
   "cell_type": "code",
   "execution_count": 20,
   "metadata": {},
   "outputs": [
    {
     "data": {
      "text/plain": [
       "76.5"
      ]
     },
     "execution_count": 20,
     "metadata": {},
     "output_type": "execute_result"
    }
   ],
   "source": [
    "a + xp_cm"
   ]
  },
  {
   "cell_type": "code",
   "execution_count": 21,
   "metadata": {},
   "outputs": [],
   "source": [
    "# df = np.append(df, Tm.reshape((-1, 1)), axis=1)"
   ]
  },
  {
   "cell_type": "code",
   "execution_count": 22,
   "metadata": {},
   "outputs": [
    {
     "data": {
      "text/plain": [
       "array([ 8.88557568,  8.88048378,  8.89436144,  9.25222703, 10.84927113,\n",
       "       10.11987078,  9.81942326,  8.84500244])"
      ]
     },
     "execution_count": 22,
     "metadata": {},
     "output_type": "execute_result"
    }
   ],
   "source": [
    "g = 4 * np.pi**2 * (J0 + m_wt * y**2)/(Tm**2 * (m0 + m_wt) * d) / 100\n",
    "g"
   ]
  },
  {
   "cell_type": "code",
   "execution_count": 23,
   "metadata": {},
   "outputs": [
    {
     "data": {
      "text/plain": [
       "(9.443276943631702, 0.6981755181807663)"
      ]
     },
     "execution_count": 23,
     "metadata": {},
     "output_type": "execute_result"
    }
   ],
   "source": [
    "g.mean(), g.std()"
   ]
  },
  {
   "cell_type": "code",
   "execution_count": 24,
   "metadata": {},
   "outputs": [],
   "source": [
    "save()"
   ]
  }
 ],
 "metadata": {
  "kernelspec": {
   "display_name": "Python 3",
   "language": "python",
   "name": "python3"
  },
  "language_info": {
   "codemirror_mode": {
    "name": "ipython",
    "version": 3
   },
   "file_extension": ".py",
   "mimetype": "text/x-python",
   "name": "python",
   "nbconvert_exporter": "python",
   "pygments_lexer": "ipython3",
   "version": "3.11.4"
  },
  "orig_nbformat": 4
 },
 "nbformat": 4,
 "nbformat_minor": 2
}
