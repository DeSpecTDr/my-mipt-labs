{
 "cells": [
  {
   "cell_type": "code",
   "execution_count": 1,
   "metadata": {},
   "outputs": [],
   "source": [
    "%run ../utils.ipynb"
   ]
  },
  {
   "cell_type": "code",
   "execution_count": 2,
   "metadata": {},
   "outputs": [],
   "source": [
    "# 1\n",
    "d_1 = M_(4.82, 0.01, 'мм')\n",
    "L_1 = M_(132.8, 0.1, 'см')\n",
    "D_1 = M_(11.07, 0.01, 'см')\n",
    "\n",
    "# 2\n",
    "l_weight_2 = M_(4.06, 0.01, 'см') # [cm] длина груза\n",
    "l_off_2 = M_(4.78, 0.01, 'см') # [cm] от оси до края центрального груза\n",
    "L_2 = M_(173, 0.2, 'см') # [cm] длина стального стержня\n",
    "d_2 = M_(1.05, 0.01, 'мм') # [mm] диаметр стержня\n",
    "m_2 = M_(204.5, 0.5, 'г') # [g] масса одного груза\n",
    "\n",
    "g = M_(9.81, 0.01, 'м/с^2')"
   ]
  },
  {
   "cell_type": "code",
   "execution_count": 3,
   "metadata": {},
   "outputs": [
    {
     "data": {
      "text/html": [
       "<table><tbody><tr><th>Magnitude</th><td style='text-align:left;'><pre>[5.228+/-0.0017320508075689212 4.488333333333332+/-0.0019720265943665278<br> 3.763333333333333+/-0.0019720265943665278<br> 3.0733333333333333+/-0.0011055415967850932<br> 2.4483333333333333+/-0.0013743685418725398]</pre></td></tr><tr><th>Units</th><td style='text-align:left;'>с</td></tr></tbody></table>"
      ],
      "text/latex": [
       "$\\begin{pmatrix} &  &  &  & \\end{pmatrix}\\ \\mathrm{с}$"
      ],
      "text/plain": [
       "array([5.228+/-0.0017320508075689212,\n",
       "       4.488333333333332+/-0.0019720265943665278,\n",
       "       3.763333333333333+/-0.0019720265943665278,\n",
       "       3.0733333333333333+/-0.0011055415967850932,\n",
       "       2.4483333333333333+/-0.0013743685418725398], dtype=object) <Unit('с')>"
      ]
     },
     "execution_count": 3,
     "metadata": {},
     "output_type": "execute_result"
    }
   ],
   "source": [
    "df = pd.read_excel(\"data.ods\", engine=\"odf\")\n",
    "l_2 = M_(df['l, см'].dropna().to_numpy(), 0.1, 'см') + l_off_2 + l_weight_2/2\n",
    "T_2 = df[['T1, с','T2, с','T3, с']].dropna().to_numpy()\n",
    "T_2 = M_(T_2.mean(axis=1), np.sqrt(T_2.std(axis=1)**2 + 0.01**2), 'с') / 10\n",
    "m_1 = M_(df['m, г'].dropna().to_numpy(), 0.5, 'г')\n",
    "dl_1 = df[['dl1, см','dl2, см','dl3, см']].dropna().to_numpy()\n",
    "dl_1 = M_(dl_1.mean(axis=1), np.sqrt(dl_1.std(axis=1)**2 + 0.1**2), 'см')\n",
    "l_2\n",
    "T_2"
   ]
  },
  {
   "cell_type": "code",
   "execution_count": 13,
   "metadata": {},
   "outputs": [
    {
     "data": {
      "text/html": [
       "<div>\n",
       "<style scoped>\n",
       "    .dataframe tbody tr th:only-of-type {\n",
       "        vertical-align: middle;\n",
       "    }\n",
       "\n",
       "    .dataframe tbody tr th {\n",
       "        vertical-align: top;\n",
       "    }\n",
       "\n",
       "    .dataframe thead th {\n",
       "        text-align: right;\n",
       "    }\n",
       "</style>\n",
       "<table border=\"1\" class=\"dataframe\">\n",
       "  <thead>\n",
       "    <tr style=\"text-align: right;\">\n",
       "      <th></th>\n",
       "      <th>l, см</th>\n",
       "      <th>T1, с</th>\n",
       "      <th>T2, с</th>\n",
       "      <th>T3, с</th>\n",
       "      <th>m, г</th>\n",
       "      <th>dl1, см</th>\n",
       "      <th>dl2, см</th>\n",
       "      <th>dl3, см</th>\n",
       "    </tr>\n",
       "  </thead>\n",
       "  <tbody>\n",
       "    <tr>\n",
       "      <th>0</th>\n",
       "      <td>12.0</td>\n",
       "      <td>52.26</td>\n",
       "      <td>52.29</td>\n",
       "      <td>52.29</td>\n",
       "      <td>200</td>\n",
       "      <td>4.40</td>\n",
       "      <td>5.0</td>\n",
       "      <td>4.5</td>\n",
       "    </tr>\n",
       "    <tr>\n",
       "      <th>1</th>\n",
       "      <td>9.0</td>\n",
       "      <td>44.90</td>\n",
       "      <td>44.86</td>\n",
       "      <td>44.89</td>\n",
       "      <td>400</td>\n",
       "      <td>8.50</td>\n",
       "      <td>8.7</td>\n",
       "      <td>9.1</td>\n",
       "    </tr>\n",
       "    <tr>\n",
       "      <th>2</th>\n",
       "      <td>6.0</td>\n",
       "      <td>37.61</td>\n",
       "      <td>37.65</td>\n",
       "      <td>37.64</td>\n",
       "      <td>500</td>\n",
       "      <td>11.60</td>\n",
       "      <td>11.4</td>\n",
       "      <td>12.0</td>\n",
       "    </tr>\n",
       "    <tr>\n",
       "      <th>3</th>\n",
       "      <td>3.0</td>\n",
       "      <td>30.74</td>\n",
       "      <td>30.73</td>\n",
       "      <td>30.73</td>\n",
       "      <td>600</td>\n",
       "      <td>13.50</td>\n",
       "      <td>14.8</td>\n",
       "      <td>13.8</td>\n",
       "    </tr>\n",
       "    <tr>\n",
       "      <th>4</th>\n",
       "      <td>0.0</td>\n",
       "      <td>24.49</td>\n",
       "      <td>24.47</td>\n",
       "      <td>24.49</td>\n",
       "      <td>700</td>\n",
       "      <td>16.60</td>\n",
       "      <td>16.6</td>\n",
       "      <td>16.9</td>\n",
       "    </tr>\n",
       "    <tr>\n",
       "      <th>5</th>\n",
       "      <td>NaN</td>\n",
       "      <td>NaN</td>\n",
       "      <td>NaN</td>\n",
       "      <td>NaN</td>\n",
       "      <td>800</td>\n",
       "      <td>18.40</td>\n",
       "      <td>18.5</td>\n",
       "      <td>18.3</td>\n",
       "    </tr>\n",
       "    <tr>\n",
       "      <th>6</th>\n",
       "      <td>NaN</td>\n",
       "      <td>NaN</td>\n",
       "      <td>NaN</td>\n",
       "      <td>NaN</td>\n",
       "      <td>700</td>\n",
       "      <td>16.70</td>\n",
       "      <td>16.5</td>\n",
       "      <td>16.5</td>\n",
       "    </tr>\n",
       "    <tr>\n",
       "      <th>7</th>\n",
       "      <td>NaN</td>\n",
       "      <td>NaN</td>\n",
       "      <td>NaN</td>\n",
       "      <td>NaN</td>\n",
       "      <td>600</td>\n",
       "      <td>14.45</td>\n",
       "      <td>13.5</td>\n",
       "      <td>13.9</td>\n",
       "    </tr>\n",
       "    <tr>\n",
       "      <th>8</th>\n",
       "      <td>NaN</td>\n",
       "      <td>NaN</td>\n",
       "      <td>NaN</td>\n",
       "      <td>NaN</td>\n",
       "      <td>500</td>\n",
       "      <td>11.20</td>\n",
       "      <td>11.3</td>\n",
       "      <td>11.5</td>\n",
       "    </tr>\n",
       "    <tr>\n",
       "      <th>9</th>\n",
       "      <td>NaN</td>\n",
       "      <td>NaN</td>\n",
       "      <td>NaN</td>\n",
       "      <td>NaN</td>\n",
       "      <td>400</td>\n",
       "      <td>9.20</td>\n",
       "      <td>8.5</td>\n",
       "      <td>9.5</td>\n",
       "    </tr>\n",
       "    <tr>\n",
       "      <th>10</th>\n",
       "      <td>NaN</td>\n",
       "      <td>NaN</td>\n",
       "      <td>NaN</td>\n",
       "      <td>NaN</td>\n",
       "      <td>200</td>\n",
       "      <td>4.00</td>\n",
       "      <td>3.9</td>\n",
       "      <td>5.0</td>\n",
       "    </tr>\n",
       "  </tbody>\n",
       "</table>\n",
       "</div>"
      ],
      "text/plain": [
       "    l, см  T1, с  T2, с  T3, с  m, г  dl1, см  dl2, см  dl3, см\n",
       "0    12.0  52.26  52.29  52.29   200     4.40      5.0      4.5\n",
       "1     9.0  44.90  44.86  44.89   400     8.50      8.7      9.1\n",
       "2     6.0  37.61  37.65  37.64   500    11.60     11.4     12.0\n",
       "3     3.0  30.74  30.73  30.73   600    13.50     14.8     13.8\n",
       "4     0.0  24.49  24.47  24.49   700    16.60     16.6     16.9\n",
       "5     NaN    NaN    NaN    NaN   800    18.40     18.5     18.3\n",
       "6     NaN    NaN    NaN    NaN   700    16.70     16.5     16.5\n",
       "7     NaN    NaN    NaN    NaN   600    14.45     13.5     13.9\n",
       "8     NaN    NaN    NaN    NaN   500    11.20     11.3     11.5\n",
       "9     NaN    NaN    NaN    NaN   400     9.20      8.5      9.5\n",
       "10    NaN    NaN    NaN    NaN   200     4.00      3.9      5.0"
      ]
     },
     "execution_count": 13,
     "metadata": {},
     "output_type": "execute_result"
    }
   ],
   "source": [
    "df"
   ]
  },
  {
   "cell_type": "code",
   "execution_count": 28,
   "metadata": {},
   "outputs": [
    {
     "data": {
      "text/plain": [
       "array([[200.  ,   4.4 ,   5.  ,   4.5 ],\n",
       "       [400.  ,   8.5 ,   8.7 ,   9.1 ],\n",
       "       [500.  ,  11.6 ,  11.4 ,  12.  ],\n",
       "       [600.  ,  13.5 ,  14.8 ,  13.8 ],\n",
       "       [700.  ,  16.6 ,  16.6 ,  16.9 ],\n",
       "       [800.  ,  18.4 ,  18.5 ,  18.3 ],\n",
       "       [700.  ,  16.7 ,  16.5 ,  16.5 ],\n",
       "       [600.  ,  14.45,  13.5 ,  13.9 ],\n",
       "       [500.  ,  11.2 ,  11.3 ,  11.5 ],\n",
       "       [400.  ,   9.2 ,   8.5 ,   9.5 ],\n",
       "       [200.  ,   4.  ,   3.9 ,   5.  ]])"
      ]
     },
     "execution_count": 28,
     "metadata": {},
     "output_type": "execute_result"
    }
   ],
   "source": [
    "df1 = df[df.columns[:4]].dropna().to_numpy()\n",
    "df2 = df[df.columns[4:]].to_numpy()\n",
    "df2"
   ]
  },
  {
   "cell_type": "code",
   "execution_count": 29,
   "metadata": {},
   "outputs": [],
   "source": [
    "# save()"
   ]
  },
  {
   "cell_type": "code",
   "execution_count": 5,
   "metadata": {},
   "outputs": [
    {
     "data": {
      "text/html": [
       "<table><tbody><tr><th>Magnitude</th><td style='text-align:left;'><pre>[0.1085967+/-0.0003091696465018236 0.2171934+/-0.0004015223160897319<br> 0.27149175000000003+/-0.00045874382319336196<br> 0.3257901+/-0.000520202528173463 0.38008845+/-0.0005845635083701877<br> 0.4343868+/-0.0006509664893971598 0.38008845+/-0.0005845635083701877<br> 0.3257901+/-0.000520202528173463<br> 0.27149175000000003+/-0.00045874382319336196<br> 0.2171934+/-0.0004015223160897319 0.1085967+/-0.0003091696465018236]</pre></td></tr><tr><th>Units</th><td style='text-align:left;'>Н м</td></tr></tbody></table>"
      ],
      "text/latex": [
       "$\\begin{pmatrix} &  &  &  &  &  &  &  &  &  & \\end{pmatrix}\\ \\mathrm{Н} \\cdot \\mathrm{м}$"
      ],
      "text/plain": [
       "array([0.1085967+/-0.0003091696465018236,\n",
       "       0.2171934+/-0.0004015223160897319,\n",
       "       0.27149175000000003+/-0.00045874382319336196,\n",
       "       0.3257901+/-0.000520202528173463,\n",
       "       0.38008845+/-0.0005845635083701877,\n",
       "       0.4343868+/-0.0006509664893971598,\n",
       "       0.38008845+/-0.0005845635083701877,\n",
       "       0.3257901+/-0.000520202528173463,\n",
       "       0.27149175000000003+/-0.00045874382319336196,\n",
       "       0.2171934+/-0.0004015223160897319,\n",
       "       0.1085967+/-0.0003091696465018236], dtype=object) <Unit('Н * м')>"
      ]
     },
     "execution_count": 5,
     "metadata": {},
     "output_type": "execute_result"
    }
   ],
   "source": [
    "M_1 = (m_1 * g * D_1 / 2).to('м*Н')\n",
    "M_1"
   ]
  },
  {
   "cell_type": "code",
   "execution_count": 6,
   "metadata": {},
   "outputs": [
    {
     "name": "stderr",
     "output_type": "stream",
     "text": [
      "/nix/store/nrixknxpg35wdd9c4iw8x1b0jq53h6i5-python3-3.11.5-env/lib/python3.11/site-packages/numpy/lib/function_base.py:2410: UnitStrippedWarning: The unit of the quantity is stripped when downcasting to ndarray.\n",
      "  inputs = [asanyarray(a, dtype=object) for a in args]\n"
     ]
    },
    {
     "data": {
      "text/html": [
       "<table><tbody><tr><th>Magnitude</th><td style='text-align:left;'><pre>[0.017443009839265652+/-0.0010572585558553788<br> 0.032995049286529875+/-0.0010110332730319737<br> 0.04389748440189275+/-0.001010420453761624<br> 0.05278726019452237+/-0.0021205910668895913<br> 0.0627938422077069+/-0.0006512693114114787<br> 0.06916659886315253+/-0.0004865235401301511<br> 0.062293795346454295+/-0.000517571644931699<br> 0.052474373477149734+/-0.0015101981313188934<br> 0.04264481290996873+/-0.0006016480695698257<br> 0.034123295632560245+/-0.0016201590872234849<br> 0.016188344768492586+/-0.001907004496736306]</pre></td></tr><tr><th>Units</th><td style='text-align:left;'>radian</td></tr></tbody></table>"
      ],
      "text/latex": [
       "$\\begin{pmatrix} &  &  &  &  &  &  &  &  &  & \\end{pmatrix}\\ \\mathrm{radian}$"
      ],
      "text/plain": [
       "array([0.017443009839265652+/-0.0010572585558553788,\n",
       "       0.032995049286529875+/-0.0010110332730319737,\n",
       "       0.04389748440189275+/-0.001010420453761624,\n",
       "       0.05278726019452237+/-0.0021205910668895913,\n",
       "       0.0627938422077069+/-0.0006512693114114787,\n",
       "       0.06916659886315253+/-0.0004865235401301511,\n",
       "       0.062293795346454295+/-0.000517571644931699,\n",
       "       0.052474373477149734+/-0.0015101981313188934,\n",
       "       0.04264481290996873+/-0.0006016480695698257,\n",
       "       0.034123295632560245+/-0.0016201590872234849,\n",
       "       0.016188344768492586+/-0.001907004496736306], dtype=object) <Unit('radian')>"
      ]
     },
     "execution_count": 6,
     "metadata": {},
     "output_type": "execute_result"
    }
   ],
   "source": [
    "phi_1 = unp.arctan(dl_1/2/L_1)*u.rad\n",
    "phi_1"
   ]
  },
  {
   "cell_type": "code",
   "execution_count": 7,
   "metadata": {},
   "outputs": [
    {
     "name": "stderr",
     "output_type": "stream",
     "text": [
      "/nix/store/nrixknxpg35wdd9c4iw8x1b0jq53h6i5-python3-3.11.5-env/lib/python3.11/site-packages/matplotlib/axes/_axes.py:3488: UnitStrippedWarning: The unit of the quantity is stripped when downcasting to ndarray.\n",
      "  x = np.asarray(x, dtype=object)\n",
      "/nix/store/nrixknxpg35wdd9c4iw8x1b0jq53h6i5-python3-3.11.5-env/lib/python3.11/site-packages/matplotlib/axes/_axes.py:3490: UnitStrippedWarning: The unit of the quantity is stripped when downcasting to ndarray.\n",
      "  y = np.asarray(y, dtype=object)\n",
      "/nix/store/nrixknxpg35wdd9c4iw8x1b0jq53h6i5-python3-3.11.5-env/lib/python3.11/site-packages/matplotlib/axes/_axes.py:3529: UnitStrippedWarning: The unit of the quantity is stripped when downcasting to ndarray.\n",
      "  return np.asarray(err, dtype=object)\n"
     ]
    },
    {
     "data": {
      "image/png": "[encoded data removed]",
      "text/plain": [
       "<Figure size 640x480 with 1 Axes>"
      ]
     },
     "metadata": {},
     "output_type": "display_data"
    }
   ],
   "source": [
    "_x = M_1\n",
    "_y = phi_1\n",
    "k1, b1 = polyfit(_x, _y)\n",
    "_xx = minmax(_x)\n",
    "errorbar(_x, _y)\n",
    "plt.ylabel(\"$\\phi, рад$\")\n",
    "# plt.ylabel(f\"$\\phi, {plt.gca().yaxis.get_units():L}$\")\n",
    "plt.xlabel(f\"$M, {plt.gca().xaxis.get_units():L}$\")\n",
    "plt.plot(_xx, _xx * k1.value + b1.value, 'k')\n",
    "plt.savefig(\"1plot.svg\")\n",
    "k1 = k1.to('1/м/Н')"
   ]
  },
  {
   "cell_type": "code",
   "execution_count": 8,
   "metadata": {},
   "outputs": [
    {
     "data": {
      "text/html": [
       "(6.07 &plusmn; 0.14) Н м"
      ],
      "text/latex": [
       "$\\left(6.07 \\pm 0.14\\right)\\ \\mathrm{Н} \\cdot \\mathrm{м}$"
      ],
      "text/plain": [
       "<Measurement(6.0681539709105845, 0.13768301204859534, Н * м)>"
      ]
     },
     "execution_count": 8,
     "metadata": {},
     "output_type": "execute_result"
    }
   ],
   "source": [
    "f1 = 1/k1\n",
    "f1"
   ]
  },
  {
   "cell_type": "code",
   "execution_count": 9,
   "metadata": {},
   "outputs": [
    {
     "data": {
      "text/html": [
       "(76.0 &plusmn; 1.8) ГПа"
      ],
      "text/latex": [
       "$\\left(76.0 \\pm 1.8\\right)\\ \\mathrm{ГПа}$"
      ],
      "text/plain": [
       "<Measurement(76.03903977024576, 1.8379550229962962, ГПа)>"
      ]
     },
     "execution_count": 9,
     "metadata": {},
     "output_type": "execute_result"
    }
   ],
   "source": [
    "G1 = (L_1 * f1 / np.pi / (d_1/2)**4).to('ГПа')\n",
    "G1"
   ]
  },
  {
   "cell_type": "code",
   "execution_count": 10,
   "metadata": {},
   "outputs": [
    {
     "data": {
      "image/png": "[encoded data removed]",
      "text/plain": [
       "<Figure size 640x480 with 1 Axes>"
      ]
     },
     "metadata": {},
     "output_type": "display_data"
    }
   ],
   "source": [
    "_x = l_2*l_2\n",
    "_y = T_2*T_2\n",
    "errorbar(_x, _y)\n",
    "k2, b2 = polyfit(_x, _y)\n",
    "# _x = np.array([min(_x).n * 0.95, max(_x).n * 1.05])\n",
    "_xx = minmax(_x) * 1.05 - 5*u.см**2\n",
    "plt.xlabel(f\"$l^2, {plt.gca().xaxis.get_units():L}$\")\n",
    "plt.ylabel(f\"$T^2, {plt.gca().yaxis.get_units():L}$\")\n",
    "plt.plot(_xx, _xx * k2.value + b2.value, 'k')\n",
    "plt.savefig(\"2plot.svg\")"
   ]
  },
  {
   "cell_type": "code",
   "execution_count": 11,
   "metadata": {},
   "outputs": [
    {
     "data": {
      "text/html": [
       "(84.3 &plusmn; 3.2) ГПа"
      ],
      "text/latex": [
       "$\\left(84.3 \\pm 3.2\\right)\\ \\mathrm{ГПа}$"
      ],
      "text/plain": [
       "<Measurement(84.28004636452387, 3.2193344497769614, ГПа)>"
      ]
     },
     "execution_count": 11,
     "metadata": {},
     "output_type": "execute_result"
    }
   ],
   "source": [
    "f2 = ((2 * np.pi)**2 / k2 * m_2).to('Н*м')\n",
    "G2 = (2 * L_2 * f2 / np.pi / (d_2/2)**4).to('ГПа') / 2\n",
    "G2"
   ]
  },
  {
   "cell_type": "code",
   "execution_count": 12,
   "metadata": {},
   "outputs": [],
   "source": [
    "save()"
   ]
  }
 ],
 "metadata": {
  "kernelspec": {
   "display_name": "Python 3",
   "language": "python",
   "name": "python3"
  },
  "language_info": {
   "codemirror_mode": {
    "name": "ipython",
    "version": 3
   },
   "file_extension": ".py",
   "mimetype": "text/x-python",
   "name": "python",
   "nbconvert_exporter": "python",
   "pygments_lexer": "ipython3",
   "version": "3.11.5"
  }
 },
 "nbformat": 4,
 "nbformat_minor": 2
}
